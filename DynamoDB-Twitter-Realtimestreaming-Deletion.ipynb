{
 "cells": [
  {
   "cell_type": "markdown",
   "metadata": {},
   "source": [
    "# Real Time Processing - Part 2\n",
    "\n",
    "\n",
    "## Using a DynamoDB table to capture specific tweet aspects from Kinesis"
   ]
  },
  {
   "cell_type": "markdown",
   "metadata": {},
   "source": [
    "### This notebook provides the necessary code to create a dynamoDB table, with the hashtag as the partition key (Primary Key)."
   ]
  },
  {
   "cell_type": "markdown",
   "metadata": {},
   "source": [
    "Creating the DynamoDB table, with the hashtag as the primary key. Read and Write capacity provisioning is kept low. The boto3 library is used to interface to Jupyter"
   ]
  },
  {
   "cell_type": "code",
   "execution_count": 36,
   "metadata": {},
   "outputs": [],
   "source": [
    "## create a table to store twitter hashtags in DynamoDB\n",
    "import boto3\n",
    "dynamodb = boto3.resource('dynamodb')\n",
    "table = dynamodb.create_table(\n",
    "    TableName='hashtags',\n",
    "    KeySchema=[\n",
    "        {\n",
    "            'AttributeName': 'hashtag',\n",
    "            'KeyType': 'HASH'\n",
    "        }\n",
    "    ],\n",
    "    AttributeDefinitions=[\n",
    "        {\n",
    "            'AttributeName': 'hashtag',\n",
    "            'AttributeType': 'S'\n",
    "        }\n",
    "    ],\n",
    "    # the pricing isdetermined by Provisioned Throughput, thus it is kept low\n",
    "    ProvisionedThroughput={\n",
    "        'ReadCapacityUnits': 100,\n",
    "        'WriteCapacityUnits': 100\n",
    "    }\n",
    ")\n",
    "table.meta.client.get_waiter('table_exists').wait(TableName='hashtags')"
   ]
  },
  {
   "cell_type": "markdown",
   "metadata": {},
   "source": [
    "### Linking the Kinesis stream to DynamoDB, parsing and storing tweets"
   ]
  },
  {
   "cell_type": "markdown",
   "metadata": {},
   "source": [
    "Parsing the results from Kinesis in JSON , extracting the hashtag and submitting the input into table.update_item(…). The table.update_item is a larger request in JSON to increment by 1 if it exists, and put 1 otherwise (not increment).\n",
    "\n",
    "Thus the hashtag counter increases by 1 each time it detects the hashtag associated with it (for every tweet)"
   ]
  },
  {
   "cell_type": "code",
   "execution_count": 37,
   "metadata": {},
   "outputs": [],
   "source": [
    "## Importing the necessary libraries\n",
    "\n",
    "import time\n",
    "import json\n",
    "import decimal\n",
    "\n",
    "#Connecting to the kinesis stream-need to specify kinesis stream here\n",
    "kinesis = boto3.client(\"kinesis\")\n",
    "shard_id = 'shardId-000000000000' #only one shard\n",
    "shard_it = kinesis.get_shard_iterator(StreamName=\"twitter_bigdata\", ShardId=shard_id, ShardIteratorType=\"TRIM_HORIZON\")[\"ShardIterator\"]\n",
    "\n",
    "#connecting to the dynamoDB table\n",
    "dynamodb = boto3.resource('dynamodb')\n",
    "table = dynamodb.Table('hashtags')"
   ]
  },
  {
   "cell_type": "code",
   "execution_count": null,
   "metadata": {},
   "outputs": [],
   "source": [
    "#Parsing the tweets and setting a counter\n",
    "\n",
    "while 1==1:\n",
    "    out = kinesis.get_records(ShardIterator=shard_it, Limit=100)\n",
    "    for record in out['Records']:\n",
    "        if 'entities' in json.loads(record['Data']):\n",
    "            htags = json.loads(record['Data'])['entities']['hashtags']\n",
    "            if htags:\n",
    "                    for ht in htags:\n",
    "                        htag = ht['text']\n",
    "                        checkItemExists = table.get_item(\n",
    "                           Key={\n",
    "                                        'hashtag':htag\n",
    "                                }\n",
    "                            )\n",
    "                    if 'Item' in checkItemExists:\n",
    "                        response = table.update_item(\n",
    "                                Key={\n",
    "                                    'hashtag': htag \n",
    "                            }, #updating the counter if hashtags exists\n",
    "                            UpdateExpression=\"set htCount  = htCount + :val\",\n",
    "                            ConditionExpression=\"attribute_exists(hashtag)\",\n",
    "                            ExpressionAttributeValues={\n",
    "                                ':val': decimal.Decimal(1) \t\n",
    "                            },\n",
    "                            ReturnValues=\"UPDATED_NEW\"\n",
    "                        )\n",
    "                    else: #not updating the counter if hashtags not exist\n",
    "                                        response = table.update_item(\n",
    "                                                Key={\n",
    "                                                        'hashtag': htag\n",
    "                                                },\n",
    "                                                UpdateExpression=\"set htCount = :val\",\n",
    "                                                ExpressionAttributeValues={\n",
    "                                                        ':val': decimal.Decimal(1)\n",
    "                                                },\n",
    "                                                ReturnValues=\"UPDATED_NEW\"\n",
    "                                        )    \n",
    "    shard_it = out[\"NextShardIterator\"]\n",
    "    time.sleep(1.0)"
   ]
  },
  {
   "cell_type": "code",
   "execution_count": null,
   "metadata": {
    "collapsed": true
   },
   "outputs": [],
   "source": []
  }
 ],
 "metadata": {
  "kernelspec": {
   "display_name": "conda_pytorch_p36",
   "language": "python",
   "name": "conda_pytorch_p36"
  }
 },
 "nbformat": 4,
 "nbformat_minor": 2
}
